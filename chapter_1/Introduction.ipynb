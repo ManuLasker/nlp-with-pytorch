{
 "cells": [
  {
   "cell_type": "markdown",
   "metadata": {},
   "source": [
    "# Chapter 1 Introduction"
   ]
  },
  {
   "cell_type": "markdown",
   "metadata": {},
   "source": [
    "Sources:\n",
    "\n",
    "- Dougherty et al (1995)"
   ]
  },
  {
   "cell_type": "code",
   "execution_count": 72,
   "metadata": {},
   "outputs": [],
   "source": [
    "%matplotlib inline\n",
    "import torch\n",
    "import seaborn as sns\n",
    "import matplotlib.pyplot as plt\n",
    "from sklearn.feature_extraction.text import CountVectorizer, TfidfVectorizer"
   ]
  },
  {
   "cell_type": "markdown",
   "metadata": {},
   "source": [
    "## One hot encode"
   ]
  },
  {
   "cell_type": "code",
   "execution_count": 54,
   "metadata": {},
   "outputs": [],
   "source": [
    "corpus = [\"Time flies like an arrow\", \"fruit flies like a banana\"]\n",
    "vocab = list(set(word.lower() for sentence in corpus for word in sentence.split()))\n",
    "word_idx = {word:idx for idx, word in enumerate(vocab)}\n",
    "idx_word = {idx:word for idx, word in enumerate(vocab)}"
   ]
  },
  {
   "cell_type": "code",
   "execution_count": 55,
   "metadata": {},
   "outputs": [
    {
     "name": "stdout",
     "output_type": "stream",
     "text": [
      "{'time': 0, 'an': 1, 'like': 2, 'fruit': 3, 'banana': 4, 'a': 5, 'arrow': 6, 'flies': 7}\n",
      "{0: 'time', 1: 'an', 2: 'like', 3: 'fruit', 4: 'banana', 5: 'a', 6: 'arrow', 7: 'flies'}\n"
     ]
    }
   ],
   "source": [
    "print(word_idx)\n",
    "print(idx_word)"
   ]
  },
  {
   "cell_type": "code",
   "execution_count": 56,
   "metadata": {},
   "outputs": [
    {
     "data": {
      "text/plain": [
       "tensor([[1., 0., 0., 0., 0., 0., 0., 0.],\n",
       "        [0., 1., 0., 0., 0., 0., 0., 0.],\n",
       "        [0., 0., 1., 0., 0., 0., 0., 0.],\n",
       "        [0., 0., 0., 1., 0., 0., 0., 0.],\n",
       "        [0., 0., 0., 0., 1., 0., 0., 0.],\n",
       "        [0., 0., 0., 0., 0., 1., 0., 0.],\n",
       "        [0., 0., 0., 0., 0., 0., 1., 0.],\n",
       "        [0., 0., 0., 0., 0., 0., 0., 1.]])"
      ]
     },
     "execution_count": 56,
     "metadata": {},
     "output_type": "execute_result"
    }
   ],
   "source": [
    "onehot_vocab_ = torch.eye(len(vocab))\n",
    "onehot_vocab_"
   ]
  },
  {
   "cell_type": "code",
   "execution_count": 57,
   "metadata": {},
   "outputs": [
    {
     "data": {
      "text/plain": [
       "tensor([1., 0., 0., 0., 0., 0., 0., 0.])"
      ]
     },
     "execution_count": 57,
     "metadata": {},
     "output_type": "execute_result"
    }
   ],
   "source": [
    "onehot_vocab_[word_idx[\"time\"]] # One hot encode for the word time"
   ]
  },
  {
   "cell_type": "code",
   "execution_count": 58,
   "metadata": {},
   "outputs": [],
   "source": [
    "def encode(sentence):\n",
    "    sentence_vector_idx = [word_idx[word.lower()] for word in sentence.split()]\n",
    "    onehot_sentence = onehot_vocab_[sentence_vector_idx]\n",
    "    return onehot_sentence"
   ]
  },
  {
   "cell_type": "code",
   "execution_count": 59,
   "metadata": {},
   "outputs": [
    {
     "data": {
      "text/plain": [
       "tensor([[0., 0., 0., 0., 0., 0., 0., 1.],\n",
       "        [0., 0., 1., 0., 0., 0., 0., 0.],\n",
       "        [0., 1., 0., 0., 0., 0., 0., 0.]])"
      ]
     },
     "execution_count": 59,
     "metadata": {},
     "output_type": "execute_result"
    }
   ],
   "source": [
    "encode(\"flies like an\") # A 3x8 matrix for the sentence one hot encode"
   ]
  },
  {
   "cell_type": "code",
   "execution_count": 60,
   "metadata": {},
   "outputs": [
    {
     "data": {
      "text/plain": [
       "tensor([0., 1., 1., 0., 0., 0., 0., 1.])"
      ]
     },
     "execution_count": 60,
     "metadata": {},
     "output_type": "execute_result"
    }
   ],
   "source": [
    "encode(\"flies like an\").sum(dim=0) # A 1 x 8 one hot binary representation"
   ]
  },
  {
   "cell_type": "markdown",
   "metadata": {},
   "source": [
    "## Binary one hot representation"
   ]
  },
  {
   "cell_type": "code",
   "execution_count": 67,
   "metadata": {},
   "outputs": [
    {
     "name": "stdout",
     "output_type": "stream",
     "text": [
      "vocab : ['an', 'arrow', 'banana', 'flies', 'fruit', 'like', 'time']\n",
      "one hot representation \n",
      "tensor([[1, 1, 0, 1, 0, 1, 1],\n",
      "        [0, 0, 1, 1, 1, 1, 0]])\n"
     ]
    },
    {
     "data": {
      "image/png": "[encoded data removed]",
      "text/plain": [
       "<Figure size 432x288 with 1 Axes>"
      ]
     },
     "metadata": {
      "needs_background": "light"
     },
     "output_type": "display_data"
    }
   ],
   "source": [
    "corpus = [\"Time flies flies like an arrow\",\n",
    "         \"Fruit flies like a banana\"]\n",
    "one_hot_vectorizer = CountVectorizer(binary=True)\n",
    "one_hot = torch.tensor(one_hot_vectorizer.fit_transform(corpus).toarray())\n",
    "vocab = one_hot_vectorizer.get_feature_names()\n",
    "print(\"vocab : {}\".format(vocab))\n",
    "print(\"one hot representation \\n{}\".format(one_hot))\n",
    "sns.heatmap(one_hot, annot=True,\n",
    "           cbar=False, xticklabels=vocab,\n",
    "           yticklabels=[\"Sentence 1\", \"Sentence 2\"])\n",
    "plt.show()"
   ]
  },
  {
   "cell_type": "markdown",
   "metadata": {},
   "source": [
    "## TF representation"
   ]
  },
  {
   "cell_type": "code",
   "execution_count": 82,
   "metadata": {},
   "outputs": [
    {
     "name": "stdout",
     "output_type": "stream",
     "text": [
      "vocab : ['an', 'arrow', 'banana', 'flies', 'fruit', 'like', 'time']\n",
      "tf representation \n",
      "tensor([[1, 1, 0, 2, 0, 1, 1],\n",
      "        [0, 0, 1, 1, 1, 1, 0]])\n"
     ]
    },
    {
     "data": {
      "image/png": "[encoded data removed]",
      "text/plain": [
       "<Figure size 432x288 with 1 Axes>"
      ]
     },
     "metadata": {
      "needs_background": "light"
     },
     "output_type": "display_data"
    }
   ],
   "source": [
    "corpus = [\"Time flies flies like an arrow\",\n",
    "         \"Fruit flies like a banana\"]\n",
    "tf_vectorizer = CountVectorizer()\n",
    "tf_representation = torch.tensor(tf_vectorizer.fit_transform(corpus).toarray())\n",
    "vocab = tf_vectorizer.get_feature_names()\n",
    "print(\"vocab : {}\".format(vocab))\n",
    "print(\"tf representation \\n{}\".format(tf_representation))\n",
    "sns.heatmap(tf_representation, annot=True,\n",
    "           cbar=False, xticklabels=vocab,\n",
    "           yticklabels=[\"Sentence 1\", \"Sentence 2\"])\n",
    "plt.show()"
   ]
  },
  {
   "cell_type": "markdown",
   "metadata": {},
   "source": [
    "## TFIDF representation\n",
    "\n",
    "The IDF representation penalizes common tokens and rewards rare tokens in the vector representation. \n",
    "The TF representation penalizes rare tokens and rewards common tokens in the vector representation.\n",
    "\n",
    "$$IDF(w) = log(\\frac{N}{n_w})$$\n",
    "\n",
    "Where $N$ is the total number of documents and $n_w$ is the number of documents containing the word $w$.\n",
    "\n",
    "Then TFIDF is simpy the product of TF and IDF:\n",
    "$$TF(w) * IDF(w)$$\n",
    "\n",
    "Let's see the limits:\n",
    "\n",
    "- Case 1: the word occur in every document $n_w = N$ then $IDF(w) = log(1) = 0$ completly penalizing that word.\n",
    "- Case 2: the word occur just one time in a document $IDF(w) = log(N)$ will be the maximun value for the weight of that word."
   ]
  },
  {
   "cell_type": "code",
   "execution_count": 86,
   "metadata": {},
   "outputs": [
    {
     "name": "stdout",
     "output_type": "stream",
     "text": [
      "vocab : ['an', 'arrow', 'banana', 'flies', 'fruit', 'like', 'time']\n",
      "tfidf representation \n",
      "tensor([[0.4252, 0.4252, 0.0000, 0.6051, 0.0000, 0.3025, 0.4252],\n",
      "        [0.0000, 0.0000, 0.5762, 0.4099, 0.5762, 0.4099, 0.0000]],\n",
      "       dtype=torch.float64)\n"
     ]
    },
    {
     "data": {
      "image/png": "[encoded data removed]",
      "text/plain": [
       "<Figure size 432x288 with 1 Axes>"
      ]
     },
     "metadata": {
      "needs_background": "light"
     },
     "output_type": "display_data"
    }
   ],
   "source": [
    "corpus = [\"Time flies flies like an arrow\",\n",
    "         \"Fruit flies like a banana\"]\n",
    "tfidf_vectorizer = TfidfVectorizer()\n",
    "tfidf_representation = torch.tensor(tfidf_vectorizer.fit_transform(corpus).toarray())\n",
    "vocab = tfidf_vectorizer.get_feature_names()\n",
    "print(\"vocab : {}\".format(vocab))\n",
    "print(\"tfidf representation \\n{}\".format(tfidf_representation))\n",
    "sns.heatmap(tfidf_representation, annot=True,\n",
    "           cbar=False, xticklabels=vocab,\n",
    "           yticklabels=[\"Sentence 1\", \"Sentence 2\"])\n",
    "plt.show()"
   ]
  }
 ],
 "metadata": {
  "kernelspec": {
   "display_name": "Python 3",
   "language": "python",
   "name": "python3"
  },
  "language_info": {
   "codemirror_mode": {
    "name": "ipython",
    "version": 3
   },
   "file_extension": ".py",
   "mimetype": "text/x-python",
   "name": "python",
   "nbconvert_exporter": "python",
   "pygments_lexer": "ipython3",
   "version": "3.7.7"
  }
 },
 "nbformat": 4,
 "nbformat_minor": 4
}
