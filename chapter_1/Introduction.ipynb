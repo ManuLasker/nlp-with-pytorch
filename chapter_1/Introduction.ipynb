{
 "cells": [
  {
   "cell_type": "code",
   "execution_count": 1,
   "metadata": {},
   "outputs": [],
   "source": [
    "import torch\n",
    "import json\n",
    "import seaborn as sns\n",
    "import matplotlib.pyplot as plt\n",
    "from functools import reduce\n",
    "from sklearn.feature_extraction.text import CountVectorizer, TfidfVectorizer"
   ]
  },
  {
   "cell_type": "markdown",
   "metadata": {},
   "source": [
    "# Chapter 1 Introduction"
   ]
  },
  {
   "cell_type": "markdown",
   "metadata": {},
   "source": [
    "Deep learning with supervised learning: </br> \n",
    "\n",
    "- Document classification: The target is a categorical label, and the observation is a document. </br>\n",
    "- In machine translation: The observation is a sentence in a language, and the target is a sentence in another language. </br>\n",
    "\n",
    "Sources:\n",
    "\n",
    "- Dougherty et al (1995)"
   ]
  },
  {
   "cell_type": "markdown",
   "metadata": {},
   "source": [
    "## Observations and target encoding\n",
    "\n",
    "We will need to represent observations (text) numerically to use then in conjunction with machine learning algorithms. We will start with some simple count-based representation using fixed vectors. This representation are sparse matrix and vectors values results."
   ]
  },
  {
   "cell_type": "markdown",
   "metadata": {},
   "source": [
    "### One-Hot representation\n",
    "\n",
    "Start with a zero vector and set as 1 the corresponding entry in the vector if the word is present in the sentence or the document."
   ]
  },
  {
   "cell_type": "code",
   "execution_count": 2,
   "metadata": {},
   "outputs": [],
   "source": [
    "corpus = [\"Time flies like an arrow\", \"Fruit flies like a banana\"]\n",
    "# corpus = [\"This is a a sample\", \"This is another another example example example\"]"
   ]
  },
  {
   "cell_type": "markdown",
   "metadata": {},
   "source": [
    "Tokenizing the corpus ignoring punctuation and Upper case words will yields to the following vocabulary, this is called **Basic Tokenization**"
   ]
  },
  {
   "cell_type": "code",
   "execution_count": 3,
   "metadata": {},
   "outputs": [
    {
     "name": "stdout",
     "output_type": "stream",
     "text": [
      "vocab: ['a', 'an', 'arrow', 'banana', 'flies', 'fruit', 'like', 'time']\n",
      "word to index mapping: {'a': 0, 'an': 1, 'arrow': 2, 'banana': 3, 'flies': 4, 'fruit': 5, 'like': 6, 'time': 7}\n",
      "index to word mapping: ['a', 'an', 'arrow', 'banana', 'flies', 'fruit', 'like', 'time']\n",
      "Size of the vocabulary: 8\n"
     ]
    }
   ],
   "source": [
    "vocab = set(word.lower() for sentence in corpus for word in sentence.split())\n",
    "vocab = list(vocab)\n",
    "vocab.sort()\n",
    "word2idx = dict((word, idx) for idx, word in enumerate(vocab))\n",
    "idx2word = [word for word in vocab]\n",
    "vocab_size = len(vocab)\n",
    "print(\"vocab:\", vocab)\n",
    "print(\"word to index mapping:\", word2idx)\n",
    "print(\"index to word mapping:\", idx2word)\n",
    "print(\"Size of the vocabulary:\", vocab_size)"
   ]
  },
  {
   "cell_type": "markdown",
   "metadata": {},
   "source": [
    "The vocabulary size for this corpus is 8, the one hot representation for each word will be:"
   ]
  },
  {
   "cell_type": "code",
   "execution_count": 4,
   "metadata": {},
   "outputs": [
    {
     "name": "stdout",
     "output_type": "stream",
     "text": [
      "word to one hot representation:\n"
     ]
    },
    {
     "data": {
      "text/plain": [
       "{'a': tensor([1, 0, 0, 0, 0, 0, 0, 0], dtype=torch.int32),\n",
       " 'an': tensor([0, 1, 0, 0, 0, 0, 0, 0], dtype=torch.int32),\n",
       " 'arrow': tensor([0, 0, 1, 0, 0, 0, 0, 0], dtype=torch.int32),\n",
       " 'banana': tensor([0, 0, 0, 1, 0, 0, 0, 0], dtype=torch.int32),\n",
       " 'flies': tensor([0, 0, 0, 0, 1, 0, 0, 0], dtype=torch.int32),\n",
       " 'fruit': tensor([0, 0, 0, 0, 0, 1, 0, 0], dtype=torch.int32),\n",
       " 'like': tensor([0, 0, 0, 0, 0, 0, 1, 0], dtype=torch.int32),\n",
       " 'time': tensor([0, 0, 0, 0, 0, 0, 0, 1], dtype=torch.int32)}"
      ]
     },
     "execution_count": 4,
     "metadata": {},
     "output_type": "execute_result"
    }
   ],
   "source": [
    "vocab_oh_matrix = torch.eye(vocab_size, dtype=torch.int32)\n",
    "word2one_hot = dict((word, vocab_oh_matrix[idx]) for word, idx in word2idx.items())\n",
    "print(\"word to one hot representation:\")\n",
    "word2one_hot"
   ]
  },
  {
   "cell_type": "markdown",
   "metadata": {},
   "source": [
    "The sentence one hot representation will be the matrix with shape `(words, vocab_size)` where the rows represent the one hot representation of each word in the sentence, and the columns index are the word in our vocabulary."
   ]
  },
  {
   "cell_type": "code",
   "execution_count": 5,
   "metadata": {},
   "outputs": [],
   "source": [
    "def get_sentence_one_hot(sentence):\n",
    "    tokens_idx = [word2idx[word.lower()]for word in sentence.split()]\n",
    "    one_hot = vocab_oh_matrix[torch.tensor(tokens_idx, dtype=torch.int64)]\n",
    "    return one_hot\n",
    "\n",
    "def get_sentence_collapse_one_hot(one_hot):\n",
    "    return reduce(lambda x, y: x | y, one_hot)"
   ]
  },
  {
   "cell_type": "code",
   "execution_count": 6,
   "metadata": {},
   "outputs": [
    {
     "name": "stdout",
     "output_type": "stream",
     "text": [
      "sentece one hot matrix representation:\n",
      "Word to idx: {'a': 0, 'an': 1, 'arrow': 2, 'banana': 3, 'flies': 4, 'fruit': 5, 'like': 6, 'time': 7}\n",
      "sentence: Time flies like an arrow\n",
      "onehot matrix:\n",
      " tensor([[0, 0, 0, 0, 0, 0, 0, 1],\n",
      "        [0, 0, 0, 0, 1, 0, 0, 0],\n",
      "        [0, 0, 0, 0, 0, 0, 1, 0],\n",
      "        [0, 1, 0, 0, 0, 0, 0, 0],\n",
      "        [0, 0, 1, 0, 0, 0, 0, 0]], dtype=torch.int32)\n",
      "sentence: Fruit flies like a banana\n",
      "onehot matrix:\n",
      " tensor([[0, 0, 0, 0, 0, 1, 0, 0],\n",
      "        [0, 0, 0, 0, 1, 0, 0, 0],\n",
      "        [0, 0, 0, 0, 0, 0, 1, 0],\n",
      "        [1, 0, 0, 0, 0, 0, 0, 0],\n",
      "        [0, 0, 0, 1, 0, 0, 0, 0]], dtype=torch.int32)\n"
     ]
    }
   ],
   "source": [
    "print(\"sentece one hot matrix representation:\")\n",
    "print(\"Word to idx:\", word2idx)\n",
    "for sentence in corpus:\n",
    "    one_hot = get_sentence_one_hot(sentence)\n",
    "    print(\"sentence:\", sentence)\n",
    "    print(\"onehot matrix:\\n\", one_hot)"
   ]
  },
  {
   "cell_type": "markdown",
   "metadata": {},
   "source": [
    "The sentence one hot collapse representation will be just a simple `OR` binary operation between the word representation for each one in the sentence"
   ]
  },
  {
   "cell_type": "code",
   "execution_count": 7,
   "metadata": {},
   "outputs": [
    {
     "name": "stdout",
     "output_type": "stream",
     "text": [
      "sentence collapse representation:\n",
      "Word to idx: {'a': 0, 'an': 1, 'arrow': 2, 'banana': 3, 'flies': 4, 'fruit': 5, 'like': 6, 'time': 7}\n",
      "sentence: Time flies like an arrow\n",
      "onehot collapse: tensor([0, 1, 1, 0, 1, 0, 1, 1], dtype=torch.int32)\n",
      "sentence: Fruit flies like a banana\n",
      "onehot collapse: tensor([1, 0, 0, 1, 1, 1, 1, 0], dtype=torch.int32)\n"
     ]
    }
   ],
   "source": [
    "print(\"sentence collapse representation:\")\n",
    "print(\"Word to idx:\", word2idx)\n",
    "data = []\n",
    "for sentence in corpus:\n",
    "    # sum sentence one hot matrix along the dim=0 (rows) and take mod 2\n",
    "    one_hot = get_sentence_one_hot(sentence)\n",
    "    one_hot = get_sentence_collapse_one_hot(one_hot)\n",
    "    data.append(one_hot)\n",
    "    print(\"sentence:\", sentence)\n",
    "    print(\"onehot collapse:\", one_hot)\n",
    "data = torch.stack(data, dim=0)"
   ]
  },
  {
   "cell_type": "markdown",
   "metadata": {},
   "source": [
    "Visualization of binary sentence representation using seaborn heatmap"
   ]
  },
  {
   "cell_type": "code",
   "execution_count": 8,
   "metadata": {},
   "outputs": [
    {
     "data": {
      "image/png": "[encoded data removed]",
      "text/plain": [
       "<Figure size 432x288 with 1 Axes>"
      ]
     },
     "metadata": {
      "needs_background": "light"
     },
     "output_type": "display_data"
    }
   ],
   "source": [
    "sns.heatmap(data.numpy(), annot=True, cbar=False,\n",
    "            xticklabels=vocab, yticklabels=[\"Sentence 1\", \"Sentence 2\"])\n",
    "plt.title(\"One hot binary representation\")\n",
    "plt.show()"
   ]
  },
  {
   "cell_type": "markdown",
   "metadata": {},
   "source": [
    "### TF Representation\n",
    "Term frequency Matrix representation is a widely use technique in Information Retrievel and are actively used even today in NLP production system!, this is simple the vector sum along rows `(dim=0)` of the word matrix one hot representation. This technique measure how frequent a word is in a sentence, this is an important statistic metric to analyze."
   ]
  },
  {
   "cell_type": "code",
   "execution_count": 9,
   "metadata": {},
   "outputs": [
    {
     "name": "stdout",
     "output_type": "stream",
     "text": [
      "TF sentence representation:\n",
      "Word to idx: {'a': 0, 'an': 1, 'arrow': 2, 'banana': 3, 'flies': 4, 'fruit': 5, 'like': 6, 'time': 7}\n",
      "sentence: Time flies like an arrow\n",
      "TF representation: tensor([0, 1, 1, 0, 1, 0, 1, 1])\n",
      "sentence: Fruit flies like a banana\n",
      "TF representation: tensor([1, 0, 0, 1, 1, 1, 1, 0])\n"
     ]
    }
   ],
   "source": [
    "print(\"TF sentence representation:\")\n",
    "print(\"Word to idx:\", word2idx)\n",
    "new_corpus = corpus # + [\"Fruit flies like time flies fruit\"]\n",
    "data = []\n",
    "for sentence in new_corpus:\n",
    "    # sum sentence one hot matrix along the dim=0 (rows)\n",
    "    tf_rep = get_sentence_one_hot(sentence).sum(dim=0)\n",
    "    data.append(tf_rep)\n",
    "    print(\"sentence:\", sentence)\n",
    "    print(\"TF representation:\", tf_rep)\n",
    "# stack as rows!\n",
    "data = torch.stack(data, dim=0)"
   ]
  },
  {
   "cell_type": "code",
   "execution_count": 10,
   "metadata": {},
   "outputs": [
    {
     "data": {
      "image/png": "[encoded data removed]",
      "text/plain": [
       "<Figure size 432x288 with 1 Axes>"
      ]
     },
     "metadata": {
      "needs_background": "light"
     },
     "output_type": "display_data"
    }
   ],
   "source": [
    "sns.heatmap(data, annot=True, cbar=False,\n",
    "           xticklabels=vocab, yticklabels=[\"Sentence 1\", \"Sentence 2\"])\n",
    "plt.title(\"TF representation of sentences\")\n",
    "plt.show()"
   ]
  },
  {
   "cell_type": "markdown",
   "metadata": {},
   "source": [
    "### TF-IDF Representation\n",
    "The problems with TF representation is that weight words with repetition, that's tend to weight not usefull words like stopwords such as: Articles, and so on. But with TF-IDF is a heuristic that do a well weighted to words. `IDF` representation penalizes common tokens and rewards rare tokens in the vector representation $IDF(w)$ is define with respect to corpus as follows:\n",
    "\n",
    "$$IDF(w)=\\log\\left(\\frac{N}{n_w}\\right)$$\n",
    "\n",
    "Where $n_w$ is the number of documents that have the word $w$ and $N$ is the number of documents.\n",
    "\n",
    "- Case 1: the word occur in every document $n_w = N$ then $IDF(w) = \\log(1) = 0$ completly penalizing that word.\n",
    "- Case 2: the word occur just one time in a document $IDF(w) = \\log(N)$ will be the maximun value for the weight of that word.\n",
    "\n",
    "The `TF-IDF` will be:\n",
    "\n",
    "$$TF-IDF(w) = TF(w) \\times IDF(w)$$"
   ]
  },
  {
   "cell_type": "code",
   "execution_count": 11,
   "metadata": {},
   "outputs": [
    {
     "name": "stdout",
     "output_type": "stream",
     "text": [
      "TF-IDF sentence representation:\n",
      "Word to idx: {'a': 0, 'an': 1, 'arrow': 2, 'banana': 3, 'flies': 4, 'fruit': 5, 'like': 6, 'time': 7}\n"
     ]
    }
   ],
   "source": [
    "print(\"TF-IDF sentence representation:\")\n",
    "print(\"Word to idx:\", word2idx)\n",
    "new_corpus = corpus\n",
    "tf, oh = [], []\n",
    "for sentence in new_corpus:\n",
    "    # sum sentence one hot matrix along the dim=0 (rows)\n",
    "    # get tf documents score\n",
    "    oh_encode = get_sentence_one_hot(sentence)\n",
    "    tf_rep = oh_encode.sum(dim=0).to(dtype=torch.float32)\n",
    "    tf_rep /= tf_rep.sum()\n",
    "    # get one hot representation of words binary!\n",
    "    oh_rep = get_sentence_collapse_one_hot(oh_encode)\n",
    "    tf.append(tf_rep)\n",
    "    oh.append(oh_rep)\n",
    "# stack tf of each sentence as rows!\n",
    "tf = torch.stack(tf, dim=0).to(dtype=torch.float32)\n",
    "oh = torch.stack(oh, dim=0).sum(dim=0) # this calculate the number of documents use by each word\n",
    "idf = torch.log10(len(new_corpus)/oh)\n",
    "tfidf = tf * idf"
   ]
  },
  {
   "cell_type": "code",
   "execution_count": 12,
   "metadata": {},
   "outputs": [
    {
     "data": {
      "image/png": "[encoded data removed]",
      "text/plain": [
       "<Figure size 432x288 with 1 Axes>"
      ]
     },
     "metadata": {
      "needs_background": "light"
     },
     "output_type": "display_data"
    }
   ],
   "source": [
    "sns.heatmap(tfidf.numpy(), annot=True, cbar=False,\n",
    "           xticklabels=vocab, yticklabels=[\"Sentence 1\", \"Sentence 2\"])\n",
    "plt.title(\"TF-IDF representation of sentences\")\n",
    "plt.show()"
   ]
  },
  {
   "cell_type": "markdown",
   "metadata": {},
   "source": [
    "## Using SKLEARN Library to apply count-base representation"
   ]
  },
  {
   "cell_type": "markdown",
   "metadata": {},
   "source": [
    "### One-Hot representation\n",
    "\n",
    "One Hot matrix representation is not implemented in sklearn, because is not usually done in that way.  It's more common to use collapse representation"
   ]
  },
  {
   "cell_type": "code",
   "execution_count": 14,
   "metadata": {},
   "outputs": [],
   "source": [
    "corpus = [\"Time flies like an arrow\", \"fruit flies like a banana\"]\n",
    "vocab = list(set(word.lower() for sentence in corpus for word in sentence.split()))\n",
    "word_idx = {word:idx for idx, word in enumerate(vocab)}\n",
    "idx_word = {idx:word for idx, word in enumerate(vocab)}"
   ]
  },
  {
   "cell_type": "code",
   "execution_count": 15,
   "metadata": {},
   "outputs": [
    {
     "name": "stdout",
     "output_type": "stream",
     "text": [
      "{'a': 0, 'flies': 1, 'time': 2, 'like': 3, 'fruit': 4, 'arrow': 5, 'banana': 6, 'an': 7}\n",
      "{0: 'a', 1: 'flies', 2: 'time', 3: 'like', 4: 'fruit', 5: 'arrow', 6: 'banana', 7: 'an'}\n"
     ]
    }
   ],
   "source": [
    "print(word_idx)\n",
    "print(idx_word)"
   ]
  },
  {
   "cell_type": "code",
   "execution_count": 16,
   "metadata": {},
   "outputs": [
    {
     "data": {
      "text/plain": [
       "tensor([[1., 0., 0., 0., 0., 0., 0., 0.],\n",
       "        [0., 1., 0., 0., 0., 0., 0., 0.],\n",
       "        [0., 0., 1., 0., 0., 0., 0., 0.],\n",
       "        [0., 0., 0., 1., 0., 0., 0., 0.],\n",
       "        [0., 0., 0., 0., 1., 0., 0., 0.],\n",
       "        [0., 0., 0., 0., 0., 1., 0., 0.],\n",
       "        [0., 0., 0., 0., 0., 0., 1., 0.],\n",
       "        [0., 0., 0., 0., 0., 0., 0., 1.]])"
      ]
     },
     "execution_count": 16,
     "metadata": {},
     "output_type": "execute_result"
    }
   ],
   "source": [
    "onehot_vocab = torch.eye(len(vocab))\n",
    "onehot_vocab"
   ]
  },
  {
   "cell_type": "markdown",
   "metadata": {},
   "source": [
    "Show the one hot representation for one word"
   ]
  },
  {
   "cell_type": "code",
   "execution_count": 17,
   "metadata": {},
   "outputs": [
    {
     "data": {
      "text/plain": [
       "tensor([0., 0., 1., 0., 0., 0., 0., 0.])"
      ]
     },
     "execution_count": 17,
     "metadata": {},
     "output_type": "execute_result"
    }
   ],
   "source": [
    "onehot_vocab[word_idx[\"time\"]] # One hot encode for the word time"
   ]
  },
  {
   "cell_type": "code",
   "execution_count": 18,
   "metadata": {},
   "outputs": [],
   "source": [
    "def encode(sentence):\n",
    "    sentence_vector_idx = [word_idx[word.lower()] for word in sentence.split()]\n",
    "    onehot_sentence = onehot_vocab[sentence_vector_idx]\n",
    "    return onehot_sentence"
   ]
  },
  {
   "cell_type": "code",
   "execution_count": 19,
   "metadata": {},
   "outputs": [
    {
     "data": {
      "text/plain": [
       "tensor([[0., 1., 0., 0., 0., 0., 0., 0.],\n",
       "        [0., 0., 0., 1., 0., 0., 0., 0.],\n",
       "        [0., 0., 0., 0., 0., 0., 0., 1.]])"
      ]
     },
     "execution_count": 19,
     "metadata": {},
     "output_type": "execute_result"
    }
   ],
   "source": [
    "encode(\"flies like an\") # A 3x8 matrix for the sentence one hot encode"
   ]
  },
  {
   "cell_type": "markdown",
   "metadata": {},
   "source": [
    "Show one hot collapse binary representation"
   ]
  },
  {
   "cell_type": "code",
   "execution_count": 20,
   "metadata": {},
   "outputs": [
    {
     "name": "stdout",
     "output_type": "stream",
     "text": [
      "vocab : ['an', 'arrow', 'banana', 'flies', 'fruit', 'like', 'time']\n",
      "one hot representation \n",
      "tensor([[1, 1, 0, 1, 0, 1, 1],\n",
      "        [0, 0, 1, 1, 1, 1, 0]])\n"
     ]
    },
    {
     "data": {
      "image/png": "[encoded data removed]",
      "text/plain": [
       "<Figure size 432x288 with 1 Axes>"
      ]
     },
     "metadata": {
      "needs_background": "light"
     },
     "output_type": "display_data"
    }
   ],
   "source": [
    "corpus = [\"Time flies flies like an arrow\",\n",
    "         \"Fruit flies like a banana\"]\n",
    "one_hot_vectorizer = CountVectorizer(binary=True)\n",
    "one_hot = torch.tensor(one_hot_vectorizer.fit_transform(corpus).toarray())\n",
    "vocab = one_hot_vectorizer.get_feature_names()\n",
    "print(\"vocab : {}\".format(vocab))\n",
    "print(\"one hot representation \\n{}\".format(one_hot))\n",
    "sns.heatmap(one_hot, annot=True,\n",
    "           cbar=False, xticklabels=vocab,\n",
    "           yticklabels=[\"Sentence 1\", \"Sentence 2\"])\n",
    "plt.title(\"Binary collapse representation\")\n",
    "plt.show()"
   ]
  },
  {
   "cell_type": "markdown",
   "metadata": {},
   "source": [
    "### TF representation"
   ]
  },
  {
   "cell_type": "code",
   "execution_count": 21,
   "metadata": {},
   "outputs": [
    {
     "name": "stdout",
     "output_type": "stream",
     "text": [
      "vocab : ['an', 'arrow', 'banana', 'flies', 'fruit', 'like', 'time']\n",
      "tf representation \n",
      "tensor([[1, 1, 0, 2, 0, 1, 1],\n",
      "        [0, 0, 1, 1, 1, 1, 0]])\n"
     ]
    },
    {
     "data": {
      "image/png": "[encoded data removed]",
      "text/plain": [
       "<Figure size 432x288 with 1 Axes>"
      ]
     },
     "metadata": {
      "needs_background": "light"
     },
     "output_type": "display_data"
    }
   ],
   "source": [
    "corpus = [\"Time flies flies like an arrow\",\n",
    "         \"Fruit flies like a banana\"]\n",
    "tf_vectorizer = CountVectorizer()\n",
    "tf_representation = torch.tensor(tf_vectorizer.fit_transform(corpus).toarray())\n",
    "vocab = tf_vectorizer.get_feature_names()\n",
    "print(\"vocab : {}\".format(vocab))\n",
    "print(\"tf representation \\n{}\".format(tf_representation))\n",
    "sns.heatmap(tf_representation, annot=True,\n",
    "           cbar=False, xticklabels=vocab,\n",
    "           yticklabels=[\"Sentence 1\", \"Sentence 2\"])\n",
    "plt.title(\"TF representation\")\n",
    "plt.show()"
   ]
  },
  {
   "cell_type": "markdown",
   "metadata": {},
   "source": [
    "### TF-IDF representation\n",
    "The Implementation of skelearn tf-idf is slightly different to the implemented before because, there are many variants to avoid numerical inestability or to normalize the matrix"
   ]
  },
  {
   "cell_type": "code",
   "execution_count": 22,
   "metadata": {},
   "outputs": [
    {
     "name": "stdout",
     "output_type": "stream",
     "text": [
      "vocab : ['an', 'arrow', 'banana', 'flies', 'fruit', 'like', 'time']\n",
      "tfidf representation \n",
      "tensor([[0.4252, 0.4252, 0.0000, 0.6051, 0.0000, 0.3025, 0.4252],\n",
      "        [0.0000, 0.0000, 0.5762, 0.4099, 0.5762, 0.4099, 0.0000]],\n",
      "       dtype=torch.float64)\n"
     ]
    },
    {
     "data": {
      "image/png": "[encoded data removed]",
      "text/plain": [
       "<Figure size 432x288 with 1 Axes>"
      ]
     },
     "metadata": {
      "needs_background": "light"
     },
     "output_type": "display_data"
    }
   ],
   "source": [
    "corpus = [\"Time flies flies like an arrow\",\n",
    "         \"Fruit flies like a banana\"]\n",
    "\n",
    "tfidf_vectorizer = TfidfVectorizer()\n",
    "tfidf_representation = torch.tensor(tfidf_vectorizer.fit_transform(corpus).toarray())\n",
    "vocab = tfidf_vectorizer.get_feature_names()\n",
    "print(\"vocab : {}\".format(vocab))\n",
    "print(\"tfidf representation \\n{}\".format(tfidf_representation))\n",
    "sns.heatmap(tfidf_representation, annot=True,\n",
    "           cbar=False, xticklabels=vocab,\n",
    "           yticklabels=[\"Sentence 1\", \"Sentence 2\"])\n",
    "plt.title(\"TF-IDF representation\")\n",
    "plt.show()"
   ]
  },
  {
   "cell_type": "markdown",
   "metadata": {},
   "source": [
    "## Create a class vectorizer for tfidf, tf binarizer and tf using pytorch"
   ]
  },
  {
   "cell_type": "code",
   "execution_count": 40,
   "metadata": {},
   "outputs": [
    {
     "name": "stdout",
     "output_type": "stream",
     "text": [
      "The autoreload extension is already loaded. To reload it, use:\n",
      "  %reload_ext autoreload\n"
     ]
    }
   ],
   "source": [
    "%load_ext autoreload\n",
    "%autoreload 2\n",
    "\n",
    "from vectorizer import PytorchVectorizer # just load the vectorizer class naive implementation for learning purposes\n",
    "\n",
    "# corpus = [\"Time flies like an arrow\", \"Fruit flies like a banana\"]\n",
    "corpus = [\"Time flies flies like an arrow\",\n",
    "         \"Fruit flies like a banana\"]\n",
    "representer = PytorchVectorizer(corpus)"
   ]
  },
  {
   "cell_type": "code",
   "execution_count": 41,
   "metadata": {},
   "outputs": [
    {
     "data": {
      "application/vnd.jupyter.widget-view+json": {
       "model_id": "5ddb5ec209d641a9874c2b8773aa9a0b",
       "version_major": 2,
       "version_minor": 0
      },
      "text/plain": [
       "HBox(children=(HTML(value='Getting One Hot'), FloatProgress(value=0.0, max=2.0), HTML(value='')))"
      ]
     },
     "metadata": {},
     "output_type": "display_data"
    },
    {
     "name": "stdout",
     "output_type": "stream",
     "text": [
      "\n"
     ]
    },
    {
     "data": {
      "image/png": "[encoded data removed]",
      "text/plain": [
       "<Figure size 432x288 with 1 Axes>"
      ]
     },
     "metadata": {
      "needs_background": "light"
     },
     "output_type": "display_data"
    }
   ],
   "source": [
    "one_hot = representer.one_hot_reprensentation()\n",
    "representer.plot(one_hot, \"One hot representation\")"
   ]
  },
  {
   "cell_type": "code",
   "execution_count": 42,
   "metadata": {},
   "outputs": [
    {
     "data": {
      "application/vnd.jupyter.widget-view+json": {
       "model_id": "f10939e83432424c80e5aee2032421cf",
       "version_major": 2,
       "version_minor": 0
      },
      "text/plain": [
       "HBox(children=(HTML(value='Get TF representation'), FloatProgress(value=0.0, max=2.0), HTML(value='')))"
      ]
     },
     "metadata": {},
     "output_type": "display_data"
    },
    {
     "name": "stdout",
     "output_type": "stream",
     "text": [
      "\n"
     ]
    },
    {
     "data": {
      "image/png": "[encoded data removed]",
      "text/plain": [
       "<Figure size 432x288 with 1 Axes>"
      ]
     },
     "metadata": {
      "needs_background": "light"
     },
     "output_type": "display_data"
    }
   ],
   "source": [
    "tf_rep = representer.tf_representation()\n",
    "representer.plot(tf_rep, \"Tf representation\")"
   ]
  },
  {
   "cell_type": "code",
   "execution_count": 43,
   "metadata": {},
   "outputs": [
    {
     "data": {
      "application/vnd.jupyter.widget-view+json": {
       "model_id": "19a30648d6724521870d778d0314d351",
       "version_major": 2,
       "version_minor": 0
      },
      "text/plain": [
       "HBox(children=(HTML(value='Get TF-IDF representation'), FloatProgress(value=0.0, max=2.0), HTML(value='')))"
      ]
     },
     "metadata": {},
     "output_type": "display_data"
    },
    {
     "name": "stdout",
     "output_type": "stream",
     "text": [
      "\n"
     ]
    },
    {
     "data": {
      "image/png": "[encoded data removed]",
      "text/plain": [
       "<Figure size 432x288 with 1 Axes>"
      ]
     },
     "metadata": {
      "needs_background": "light"
     },
     "output_type": "display_data"
    }
   ],
   "source": [
    "tfidf_rep = representer.tfidf_representation()\n",
    "representer.plot(tfidf_rep, \"Tf-idf representation\")"
   ]
  }
 ],
 "metadata": {
  "kernelspec": {
   "display_name": "Python 3",
   "language": "python",
   "name": "python3"
  },
  "language_info": {
   "codemirror_mode": {
    "name": "ipython",
    "version": 3
   },
   "file_extension": ".py",
   "mimetype": "text/x-python",
   "name": "python",
   "nbconvert_exporter": "python",
   "pygments_lexer": "ipython3",
   "version": "3.8.5"
  }
 },
 "nbformat": 4,
 "nbformat_minor": 4
}
