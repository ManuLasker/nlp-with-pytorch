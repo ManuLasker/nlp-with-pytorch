{
 "cells": [
  {
   "cell_type": "markdown",
   "metadata": {},
   "source": [
    "# Laguage Modeling in Deep"
   ]
  },
  {
   "cell_type": "code",
   "execution_count": 16,
   "metadata": {},
   "outputs": [
    {
     "name": "stdout",
     "output_type": "stream",
     "text": [
      "The autoreload extension is already loaded. To reload it, use:\n",
      "  %reload_ext autoreload\n"
     ]
    }
   ],
   "source": [
    "%load_ext autoreload\n",
    "%autoreload 2\n",
    "import pandas as pd\n",
    "import warnings\n",
    "from tqdm.notebook import tqdm\n",
    "from utils import *\n",
    "warnings.filterwarnings(\"ignore\")\n",
    "tqdm.pandas(desc=\"Preprocess Data\")"
   ]
  },
  {
   "cell_type": "markdown",
   "metadata": {},
   "source": [
    "## Download the data"
   ]
  },
  {
   "cell_type": "code",
   "execution_count": 17,
   "metadata": {},
   "outputs": [
    {
     "name": "stderr",
     "output_type": "stream",
     "text": [
      "2020-06-30 22:48:13,415 : INFO : Downloading Dataset on koombeastaging.wpengine.com///wp-json/wp/v2/posts?page&per_page\n",
      "2020-06-30 22:48:23,799 : INFO : Downloading blogs = 20\n",
      "2020-06-30 22:48:35,569 : INFO : Downloading blogs = 40\n",
      "2020-06-30 22:48:47,659 : INFO : Downloading blogs = 60\n",
      "2020-06-30 22:49:01,408 : INFO : Downloading blogs = 80\n",
      "2020-06-30 22:49:13,407 : INFO : Downloading blogs = 100\n",
      "2020-06-30 22:49:25,548 : INFO : Downloading blogs = 120\n",
      "2020-06-30 22:49:37,813 : INFO : Downloading blogs = 140\n",
      "2020-06-30 22:49:49,559 : INFO : Downloading blogs = 160\n",
      "2020-06-30 22:50:01,405 : INFO : Downloading blogs = 180\n",
      "2020-06-30 22:50:13,379 : INFO : Downloading blogs = 200\n",
      "2020-06-30 22:50:25,818 : INFO : Downloading blogs = 220\n",
      "2020-06-30 22:50:37,468 : INFO : Downloading blogs = 240\n",
      "2020-06-30 22:50:49,571 : INFO : Downloading blogs = 260\n",
      "2020-06-30 22:51:01,653 : INFO : Downloading blogs = 280\n",
      "2020-06-30 22:51:13,747 : INFO : Downloading blogs = 300\n",
      "2020-06-30 22:51:25,978 : INFO : Downloading blogs = 320\n",
      "2020-06-30 22:51:38,009 : INFO : Downloading blogs = 340\n",
      "2020-06-30 22:51:49,865 : INFO : Downloading blogs = 360\n",
      "2020-06-30 22:52:01,960 : INFO : Downloading blogs = 380\n",
      "2020-06-30 22:52:14,335 : INFO : Downloading blogs = 400\n",
      "2020-06-30 22:52:26,328 : INFO : Downloading blogs = 420\n",
      "2020-06-30 22:52:39,219 : INFO : Downloading blogs = 440\n",
      "2020-06-30 22:52:55,012 : INFO : Downloading blogs = 460\n",
      "2020-06-30 22:53:01,737 : ERROR : Error! can only concatenate list (not \"dict\") to list\n",
      "2020-06-30 22:53:01,743 : INFO : Begin To clean datablogs and grab title and content information\n"
     ]
    },
    {
     "data": {
      "application/vnd.jupyter.widget-view+json": {
       "model_id": "35865c616a9046579263120c6b41a4d3",
       "version_major": 2,
       "version_minor": 0
      },
      "text/plain": [
       "HBox(children=(FloatProgress(value=0.0, description='Cleaning html data', max=467.0, style=ProgressStyle(descr…"
      ]
     },
     "metadata": {},
     "output_type": "display_data"
    },
    {
     "name": "stderr",
     "output_type": "stream",
     "text": [
      "2020-06-30 22:53:04,745 : INFO : Finish!! Donwloading the blogs\n"
     ]
    },
    {
     "name": "stdout",
     "output_type": "stream",
     "text": [
      "\n"
     ]
    }
   ],
   "source": [
    "blogs_data, last_page = get_data_frame(page = 1)"
   ]
  },
  {
   "cell_type": "code",
   "execution_count": 21,
   "metadata": {},
   "outputs": [
    {
     "data": {
      "text/html": [
       "<div>\n",
       "<style scoped>\n",
       "    .dataframe tbody tr th:only-of-type {\n",
       "        vertical-align: middle;\n",
       "    }\n",
       "\n",
       "    .dataframe tbody tr th {\n",
       "        vertical-align: top;\n",
       "    }\n",
       "\n",
       "    .dataframe thead th {\n",
       "        text-align: right;\n",
       "    }\n",
       "</style>\n",
       "<table border=\"1\" class=\"dataframe\">\n",
       "  <thead>\n",
       "    <tr style=\"text-align: right;\">\n",
       "      <th></th>\n",
       "      <th>id</th>\n",
       "      <th>title</th>\n",
       "      <th>content</th>\n",
       "      <th>slug</th>\n",
       "      <th>preprocess_data</th>\n",
       "    </tr>\n",
       "  </thead>\n",
       "  <tbody>\n",
       "    <tr>\n",
       "      <th>0</th>\n",
       "      <td>5173</td>\n",
       "      <td>Why Scalability Matters for Your App</td>\n",
       "      <td>Building an app is an extensive process. From ...</td>\n",
       "      <td>why-scalability-matters-for-your-app</td>\n",
       "      <td>why scalability matters for your app building ...</td>\n",
       "    </tr>\n",
       "    <tr>\n",
       "      <th>1</th>\n",
       "      <td>5174</td>\n",
       "      <td>Is a Scrum Agile Development Process Right for...</td>\n",
       "      <td>A Brief History of Scrum Agile Development: \\n...</td>\n",
       "      <td>is-a-scrum-agile-development-process-right-for...</td>\n",
       "      <td>is scrum agile development process right for y...</td>\n",
       "    </tr>\n",
       "    <tr>\n",
       "      <th>2</th>\n",
       "      <td>5175</td>\n",
       "      <td>How to Make Your App Irresistible Through User...</td>\n",
       "      <td>Guessing is a part of life—and it’s necessary....</td>\n",
       "      <td>how-to-make-your-app-irresistible-through-user...</td>\n",
       "      <td>how to make your app irresistible through user...</td>\n",
       "    </tr>\n",
       "    <tr>\n",
       "      <th>3</th>\n",
       "      <td>5176</td>\n",
       "      <td>5 Product Manager MUSTS for Creating a Success...</td>\n",
       "      <td>Product management is a tough job. You must tr...</td>\n",
       "      <td>5-product-manager-musts-for-creating-a-success...</td>\n",
       "      <td>product manager musts for creating successful ...</td>\n",
       "    </tr>\n",
       "    <tr>\n",
       "      <th>4</th>\n",
       "      <td>5177</td>\n",
       "      <td>7 Key Questions to Ask Your Prospective App De...</td>\n",
       "      <td>From the moment you decide to move forward wit...</td>\n",
       "      <td>7-key-questions-to-ask-prospective-app-develop...</td>\n",
       "      <td>key questions to ask your prospective app deve...</td>\n",
       "    </tr>\n",
       "  </tbody>\n",
       "</table>\n",
       "</div>"
      ],
      "text/plain": [
       "     id  ...                                    preprocess_data\n",
       "0  5173  ...  why scalability matters for your app building ...\n",
       "1  5174  ...  is scrum agile development process right for y...\n",
       "2  5175  ...  how to make your app irresistible through user...\n",
       "3  5176  ...  product manager musts for creating successful ...\n",
       "4  5177  ...  key questions to ask your prospective app deve...\n",
       "\n",
       "[5 rows x 5 columns]"
      ]
     },
     "execution_count": 21,
     "metadata": {},
     "output_type": "execute_result"
    }
   ],
   "source": [
    "blogs_data.head()"
   ]
  },
  {
   "cell_type": "markdown",
   "metadata": {},
   "source": [
    "# Preprocess data"
   ]
  },
  {
   "cell_type": "code",
   "execution_count": 19,
   "metadata": {},
   "outputs": [
    {
     "data": {
      "application/vnd.jupyter.widget-view+json": {
       "model_id": "fbbe8e90e9574059817e1e9644802087",
       "version_major": 2,
       "version_minor": 0
      },
      "text/plain": [
       "HBox(children=(FloatProgress(value=0.0, description='Preprocess Data', max=467.0, style=ProgressStyle(descript…"
      ]
     },
     "metadata": {},
     "output_type": "display_data"
    },
    {
     "name": "stdout",
     "output_type": "stream",
     "text": [
      "\n"
     ]
    }
   ],
   "source": [
    "blogs_data[\"preprocess_data\"] = blogs_data[\"title\"] + \" \" + blogs_data[\"content\"]\n",
    "blogs_data[\"preprocess_data\"] = blogs_data[\"preprocess_data\"].progress_apply(preprocess_data)"
   ]
  },
  {
   "cell_type": "code",
   "execution_count": 20,
   "metadata": {},
   "outputs": [
    {
     "data": {
      "text/html": [
       "<div>\n",
       "<style scoped>\n",
       "    .dataframe tbody tr th:only-of-type {\n",
       "        vertical-align: middle;\n",
       "    }\n",
       "\n",
       "    .dataframe tbody tr th {\n",
       "        vertical-align: top;\n",
       "    }\n",
       "\n",
       "    .dataframe thead th {\n",
       "        text-align: right;\n",
       "    }\n",
       "</style>\n",
       "<table border=\"1\" class=\"dataframe\">\n",
       "  <thead>\n",
       "    <tr style=\"text-align: right;\">\n",
       "      <th></th>\n",
       "      <th>id</th>\n",
       "      <th>title</th>\n",
       "      <th>content</th>\n",
       "      <th>slug</th>\n",
       "      <th>preprocess_data</th>\n",
       "    </tr>\n",
       "  </thead>\n",
       "  <tbody>\n",
       "    <tr>\n",
       "      <th>0</th>\n",
       "      <td>5173</td>\n",
       "      <td>Why Scalability Matters for Your App</td>\n",
       "      <td>Building an app is an extensive process. From ...</td>\n",
       "      <td>why-scalability-matters-for-your-app</td>\n",
       "      <td>why scalability matters for your app building ...</td>\n",
       "    </tr>\n",
       "    <tr>\n",
       "      <th>1</th>\n",
       "      <td>5174</td>\n",
       "      <td>Is a Scrum Agile Development Process Right for...</td>\n",
       "      <td>A Brief History of Scrum Agile Development: \\n...</td>\n",
       "      <td>is-a-scrum-agile-development-process-right-for...</td>\n",
       "      <td>is scrum agile development process right for y...</td>\n",
       "    </tr>\n",
       "    <tr>\n",
       "      <th>2</th>\n",
       "      <td>5175</td>\n",
       "      <td>How to Make Your App Irresistible Through User...</td>\n",
       "      <td>Guessing is a part of life—and it’s necessary....</td>\n",
       "      <td>how-to-make-your-app-irresistible-through-user...</td>\n",
       "      <td>how to make your app irresistible through user...</td>\n",
       "    </tr>\n",
       "    <tr>\n",
       "      <th>3</th>\n",
       "      <td>5176</td>\n",
       "      <td>5 Product Manager MUSTS for Creating a Success...</td>\n",
       "      <td>Product management is a tough job. You must tr...</td>\n",
       "      <td>5-product-manager-musts-for-creating-a-success...</td>\n",
       "      <td>product manager musts for creating successful ...</td>\n",
       "    </tr>\n",
       "    <tr>\n",
       "      <th>4</th>\n",
       "      <td>5177</td>\n",
       "      <td>7 Key Questions to Ask Your Prospective App De...</td>\n",
       "      <td>From the moment you decide to move forward wit...</td>\n",
       "      <td>7-key-questions-to-ask-prospective-app-develop...</td>\n",
       "      <td>key questions to ask your prospective app deve...</td>\n",
       "    </tr>\n",
       "  </tbody>\n",
       "</table>\n",
       "</div>"
      ],
      "text/plain": [
       "     id  ...                                    preprocess_data\n",
       "0  5173  ...  why scalability matters for your app building ...\n",
       "1  5174  ...  is scrum agile development process right for y...\n",
       "2  5175  ...  how to make your app irresistible through user...\n",
       "3  5176  ...  product manager musts for creating successful ...\n",
       "4  5177  ...  key questions to ask your prospective app deve...\n",
       "\n",
       "[5 rows x 5 columns]"
      ]
     },
     "execution_count": 20,
     "metadata": {},
     "output_type": "execute_result"
    }
   ],
   "source": [
    "blogs_data.head()"
   ]
  },
  {
   "cell_type": "code",
   "execution_count": 22,
   "metadata": {},
   "outputs": [
    {
     "data": {
      "text/plain": [
       "(467, 5)"
      ]
     },
     "execution_count": 22,
     "metadata": {},
     "output_type": "execute_result"
    }
   ],
   "source": [
    "blogs_data.shape"
   ]
  },
  {
   "cell_type": "markdown",
   "metadata": {},
   "source": [
    "## Prepare torchtext Datasets"
   ]
  },
  {
   "cell_type": "code",
   "execution_count": 24,
   "metadata": {},
   "outputs": [],
   "source": [
    "import torchtext\n",
    "from torchtext import datasets, data"
   ]
  }
 ],
 "metadata": {
  "kernelspec": {
   "display_name": "Python 3",
   "language": "python",
   "name": "python3"
  },
  "language_info": {
   "codemirror_mode": {
    "name": "ipython",
    "version": 3
   },
   "file_extension": ".py",
   "mimetype": "text/x-python",
   "name": "python",
   "nbconvert_exporter": "python",
   "pygments_lexer": "ipython3",
   "version": "3.7.7"
  },
  "toc": {
   "base_numbering": 1,
   "nav_menu": {},
   "number_sections": true,
   "sideBar": true,
   "skip_h1_title": false,
   "title_cell": "Table of Contents",
   "title_sidebar": "Contents",
   "toc_cell": false,
   "toc_position": {},
   "toc_section_display": true,
   "toc_window_display": true
  }
 },
 "nbformat": 4,
 "nbformat_minor": 4
}
