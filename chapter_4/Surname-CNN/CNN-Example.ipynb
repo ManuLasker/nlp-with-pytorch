{
 "cells": [
  {
   "cell_type": "markdown",
   "metadata": {},
   "source": [
    "# Conv1D for text sequences"
   ]
  },
  {
   "cell_type": "code",
   "execution_count": 2,
   "metadata": {},
   "outputs": [],
   "source": [
    "import torch.nn as nn\n",
    "import torch"
   ]
  },
  {
   "cell_type": "markdown",
   "metadata": {},
   "source": [
    "# First Way for reducing to features vector\n",
    "\n",
    "Apply sequence of convolutions in order to redux the last dimension and then squeeze"
   ]
  },
  {
   "cell_type": "code",
   "execution_count": 21,
   "metadata": {},
   "outputs": [
    {
     "data": {
      "text/plain": [
       "128"
      ]
     },
     "execution_count": 21,
     "metadata": {},
     "output_type": "execute_result"
    }
   ],
   "source": [
    "import numpy as np\n",
    "2**7"
   ]
  },
  {
   "cell_type": "code",
   "execution_count": 31,
   "metadata": {},
   "outputs": [
    {
     "name": "stdout",
     "output_type": "stream",
     "text": [
      "torch.Size([2, 10, 17])\n",
      "torch.Size([2, 16, 16])\n",
      "torch.Size([2, 32, 14])\n",
      "torch.Size([2, 64, 12])\n",
      "torch.Size([2, 64, 8])\n"
     ]
    }
   ],
   "source": [
    "batch_size = 2\n",
    "one_hot_size = 10\n",
    "sequence_width = 17\n",
    "data = torch.randn(batch_size, one_hot_size, sequence_width)\n",
    "conv1 = nn.Conv1d(in_channels=one_hot_size,\n",
    "                 out_channels=16,\n",
    "                 kernel_size=2)\n",
    "intermediate1 = conv1(data)\n",
    "print(data.size())\n",
    "print(intermediate1.size())\n",
    "\n",
    "conv2 = nn.Conv1d(in_channels=16, out_channels=32, kernel_size=3)\n",
    "conv3 = nn.Conv1d(in_channels=32, out_channels=64, kernel_size=3)\n",
    "conv4 = nn.Conv1d(in_channels=64, out_channels=64, kernel_size=3)\n",
    "conv5 = nn.Conv1d(in_channels=64, out_channels=64, kernel_size=3)\n",
    "\n",
    "\n",
    "intermediate2 = conv2(intermediate1)\n",
    "intermediate3 = conv3(intermediate2)\n",
    "\n",
    "print(intermediate2.size())\n",
    "print(intermediate3.size())\n",
    "\n",
    "print(conv5(conv4(intermediate3)).size())"
   ]
  },
  {
   "cell_type": "markdown",
   "metadata": {},
   "source": [
    "# Second Way\n",
    "\n",
    "Flatten the dimensions, this maintain all the information but is not memory friendly"
   ]
  },
  {
   "cell_type": "code",
   "execution_count": 9,
   "metadata": {},
   "outputs": [
    {
     "name": "stdout",
     "output_type": "stream",
     "text": [
      "torch.Size([2, 16, 5])\n",
      "torch.Size([2, 80])\n"
     ]
    }
   ],
   "source": [
    "print(intermediate1.size())\n",
    "print(intermediate1.view(batch_size, -1).size())"
   ]
  },
  {
   "cell_type": "markdown",
   "metadata": {},
   "source": [
    "# Third Way\n",
    "Sum, max, or mean "
   ]
  },
  {
   "cell_type": "code",
   "execution_count": 14,
   "metadata": {},
   "outputs": [
    {
     "name": "stdout",
     "output_type": "stream",
     "text": [
      "torch.Size([2, 16])\n",
      "torch.Size([2, 16])\n",
      "torch.Size([2, 16])\n"
     ]
    }
   ],
   "source": [
    "print(torch.mean(intermediate1, dim=2).size())\n",
    "print(torch.max(intermediate1, dim=2).values.size())\n",
    "print(torch.sum(intermediate1, dim=2).size())"
   ]
  },
  {
   "cell_type": "markdown",
   "metadata": {},
   "source": [
    "The method for designing a series of convolutions is empirically basesd: you start with expected size of your data, play araound with the series of convolutions, and eventually get a feature vector that suits you. Alghought this works well in practice, there is another method of computing the output size of a tensor given the convolution's hyperparameters and an input tensor, by using the mathematica formula derived from the convolution operation itself"
   ]
  }
 ],
 "metadata": {
  "kernelspec": {
   "display_name": "Python 3",
   "language": "python",
   "name": "python3"
  },
  "language_info": {
   "codemirror_mode": {
    "name": "ipython",
    "version": 3
   },
   "file_extension": ".py",
   "mimetype": "text/x-python",
   "name": "python",
   "nbconvert_exporter": "python",
   "pygments_lexer": "ipython3",
   "version": "3.7.7"
  }
 },
 "nbformat": 4,
 "nbformat_minor": 4
}
